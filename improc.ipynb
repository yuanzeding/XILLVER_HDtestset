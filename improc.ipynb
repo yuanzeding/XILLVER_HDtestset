{
 "cells": [
  {
   "cell_type": "code",
   "execution_count": 385,
   "id": "aa3cbe6c-697b-4308-b914-2f510365e2b8",
   "metadata": {},
   "outputs": [],
   "source": [
    "import sys\n",
    "sys.path.append('/disk/bifrost/yuanze/software/GalfitS/src')\n",
    "import os\n",
    "os.environ[\"CUDA_VISIBLE_DEVICES\"] = \"0\"\n",
    "os.environ[\"XLA_PYTHON_CLIENT_PREALLOCATE\"] = \"false\"\n",
    "import images as IM\n",
    "import importlib\n",
    "importlib.reload(IM)\n",
    "\n",
    "from astropy.coordinates import SkyCoord\n",
    "import pickle\n",
    "from astropy.stats import sigma_clipped_stats\n",
    "from astropy.visualization.mpl_normalize import simple_norm\n",
    "from astropy.table import Table, Column\n",
    "import matplotlib.pyplot as plt\n",
    "import numpy as np\n",
    "import time\n",
    "from astropy import units as u\n",
    "from astropy import constants as const\n",
    "from astropy.cosmology import FlatLambdaCDM,z_at_value\n",
    "from astropy.io import fits, ascii\n",
    "from astropy.wcs import WCS\n",
    "import glob\n",
    "from spectral_cube import SpectralCube"
   ]
  },
  {
   "cell_type": "code",
   "execution_count": 58,
   "id": "d7d1ee0c-1e55-465c-ae51-4bf5f53f4c86",
   "metadata": {},
   "outputs": [
    {
     "data": {
      "text/plain": [
       "28.19707300926475"
      ]
     },
     "execution_count": 58,
     "metadata": {},
     "output_type": "execute_result"
    }
   ],
   "source": [
    "-2.5*np.log10(header[\"PHOTFLAM\"])-21.1"
   ]
  },
  {
   "cell_type": "code",
   "execution_count": 70,
   "id": "667b484e-643d-40b7-82cc-119cd72c324c",
   "metadata": {},
   "outputs": [
    {
     "data": {
      "text/plain": [
       "'/disk/bifrost/yuanze/multiAGN/UGC2369/hst/hst_10592_11_acs_wfc_f435w_j9cv11//disk/bifrost/yuanze/multiAGN/UGC2369/hst/hst_10592_11_acs_wfc_f435w_j9cv11/hst_10592_11_acs_wfc_f435w_j9cv11_drc.fits_drc.fits'"
      ]
     },
     "execution_count": 70,
     "metadata": {},
     "output_type": "execute_result"
    }
   ],
   "source": [
    "fname"
   ]
  },
  {
   "cell_type": "code",
   "execution_count": 407,
   "id": "76701052-e080-4980-9bc2-a1b6736dcc75",
   "metadata": {},
   "outputs": [],
   "source": [
    "sourcename=\"UGC2369_1\"\n",
    "field=\"UGC2369\"\n",
    "KBSSpath=\"/disk/bifrost/yuanze/KBSS\"\n",
    "multiAGNpath=\"/disk/bifrost/yuanze/multiAGN\"\n",
    "\n",
    "#qsos = ascii.read(KBSSpath+\"/KCWI/qsos.kcwi\",format=\"ipac\")\n",
    "#sentry=qsos[qsos[\"Name\"]==sourcename]\n",
    "#retrive HST file name\n",
    "\n",
    "stab = ascii.read(multiAGNpath+\"/sources.list\",format=\"ipac\")\n",
    "datatype=\"spitzer\"\n",
    "inst=\"IRAC/ch1\"\n",
    "filter=\"f435w\"\n",
    "if datatype == \"hst\":\n",
    "    datapath=glob.glob(multiAGNpath+\"/\"+field+\"/\"+datatype+f\"/hst_*{filter:s}*\")[0]\n",
    "    fprefix = datapath.split(\"/\")[-1]\n",
    "    fname = datapath+\"/\"+fprefix+\"_drc.fits\"\n",
    "elif datatype == \"spitzer\":\n",
    "    datapath=glob.glob(multiAGNpath+\"/\"+field+\"/\"+datatype+\"/\"+inst+f\"/pbcd/SPITZER_*maic.fits\")[0]\n",
    "    fprefix = datapath.split(\"/\")[-1].split(\".\")[0]\n",
    "    fname = datapath\n",
    "#conver={\"ch2\":0.1382,\"ch4\":0.2026}\n",
    "#dataname=\"q1549_irac_\"+subtype+\"_mosaic.fits\"\n",
    "#dataname=\"Q1549_F606W_075_drc_sci.fits\"\n",
    "sentry = stab[stab[\"Field\"]==field]\n",
    "\n",
    "ra = np.mean(sentry[\"RA\"].value)\n",
    "dec = np.mean(sentry[\"Dec\"].value)\n",
    "sc=SkyCoord(ra=ra,dec=dec,unit=\"deg\")\n",
    "\n",
    "#datapath=KBSSpath+\"/\"+field+\"/\"+datatype+\"/\"+dataname\n",
    "#fname = datapath\n",
    "\n",
    "hdu = fits.open(fname)\n",
    "\n",
    "img = IM.image(fname,hdu=0)\n",
    "\n",
    "spitzerlambda=np.array([3.6,4.5,5.8,8.0])*u.micron\n",
    "A=(0.6*np.pi/180/3600)**2"
   ]
  },
  {
   "cell_type": "code",
   "execution_count": 408,
   "id": "adf5abf7-eded-4658-9863-1f4914598054",
   "metadata": {
    "scrolled": true
   },
   "outputs": [
    {
     "ename": "NameError",
     "evalue": "name 'ccgs' is not defined",
     "output_type": "error",
     "traceback": [
      "\u001b[0;31m---------------------------------------------------------------------------\u001b[0m",
      "\u001b[0;31mNameError\u001b[0m                                 Traceback (most recent call last)",
      "Cell \u001b[0;32mIn[408], line 5\u001b[0m\n\u001b[1;32m      3\u001b[0m JytoFnu\u001b[38;5;241m=\u001b[39m\u001b[38;5;241m1e-23\u001b[39m\u001b[38;5;241m*\u001b[39m(u\u001b[38;5;241m.\u001b[39merg\u001b[38;5;241m/\u001b[39mu\u001b[38;5;241m.\u001b[39ms\u001b[38;5;241m/\u001b[39mu\u001b[38;5;241m.\u001b[39mcm\u001b[38;5;241m*\u001b[39m\u001b[38;5;241m*\u001b[39m\u001b[38;5;241m2\u001b[39m\u001b[38;5;241m/\u001b[39mu\u001b[38;5;241m.\u001b[39mHz)\u001b[38;5;241m/\u001b[39mu\u001b[38;5;241m.\u001b[39mJy\n\u001b[1;32m      4\u001b[0m Lambda\u001b[38;5;241m=\u001b[39mspitzerlambda\u001b[38;5;241m.\u001b[39mto(u\u001b[38;5;241m.\u001b[39mcm)\n\u001b[0;32m----> 5\u001b[0m FJytoFlambda\u001b[38;5;241m=\u001b[39m\u001b[43mccgs\u001b[49m\u001b[38;5;241m/\u001b[39mLambda\u001b[38;5;241m*\u001b[39m\u001b[38;5;241m*\u001b[39m\u001b[38;5;241m2\u001b[39m\u001b[38;5;241m*\u001b[39mJytoFnu\u001b[38;5;241m*\u001b[39mC\n\u001b[1;32m      6\u001b[0m \u001b[38;5;28mprint\u001b[39m(\u001b[38;5;241m1\u001b[39m\u001b[38;5;241m/\u001b[39mFJytoFlambda\u001b[38;5;241m.\u001b[39mto(u\u001b[38;5;241m.\u001b[39merg\u001b[38;5;241m/\u001b[39mu\u001b[38;5;241m.\u001b[39mcm\u001b[38;5;241m*\u001b[39m\u001b[38;5;241m*\u001b[39m\u001b[38;5;241m2\u001b[39m\u001b[38;5;241m/\u001b[39mu\u001b[38;5;241m.\u001b[39mAA\u001b[38;5;241m/\u001b[39mu\u001b[38;5;241m.\u001b[39ms\u001b[38;5;241m/\u001b[39mu\u001b[38;5;241m.\u001b[39mJy))\n\u001b[1;32m      7\u001b[0m \u001b[38;5;66;03m#1/(erg*Sr/s/cm2/A/MJy/pixel)\u001b[39;00m\n\u001b[1;32m      8\u001b[0m \u001b[38;5;66;03m#conversion from MJy/Sr to Flambda/pixel\u001b[39;00m\n",
      "\u001b[0;31mNameError\u001b[0m: name 'ccgs' is not defined"
     ]
    }
   ],
   "source": [
    "C=8.461595E-06\n",
    "#C = 8.461595E-06 Jy/pixel/(MJy/sr). Therefore the equation becomes\n",
    "JytoFnu=1e-23*(u.erg/u.s/u.cm**2/u.Hz)/u.Jy\n",
    "Lambda=spitzerlambda.to(u.cm)\n",
    "FJytoFlambda=ccgs/Lambda**2*JytoFnu*C\n",
    "print(1/FJytoFlambda.to(u.erg/u.cm**2/u.AA/u.s/u.Jy))\n",
    "#1/(erg*Sr/s/cm2/A/MJy/pixel)\n",
    "#conversion from MJy/Sr to Flambda/pixel\n",
    "FJytoFnu=C*JytoFnu\n",
    "print(FJytoFnu)"
   ]
  },
  {
   "cell_type": "code",
   "execution_count": 343,
   "id": "0b2b6a17-60d2-4c35-9a27-2e256a0a14cf",
   "metadata": {
    "tags": []
   },
   "outputs": [],
   "source": [
    "def write_fits(image, ra, dec, outputname, header = None,cutimg=None, addpixsc = False):\n",
    "        '''\n",
    "        Write the cut image to a FITS file.\n",
    "        In order [cut_image, cut_mask_image, cut_sigma_image]\n",
    "        '''\n",
    "        if header is None:\n",
    "            header=image.data.header\n",
    "        hdu_temp = fits.PrimaryHDU(np.float32(image), header=header)\n",
    "        hdu_temp.header['CRVAL1'] = ra\n",
    "        hdu_temp.header['CRVAL2'] = dec\n",
    "        hdu_temp.header['EXPTIME'] = 1\n",
    "        hdu_temp.header['CRPIX1'] = cutimg.sources_skycord_cut[0]\n",
    "        hdu_temp.header['CRPIX2'] = cutimg.sources_skycord_cut[1]\n",
    "        if addpixsc:\n",
    "            hdu_temp.header['CDELT1'] = cutimg.pixel_scales[0].value/3600\n",
    "            hdu_temp.header['CDELT2'] = cutimg.pixel_scales[1].value/3600\n",
    "#        hdu_temp2 = fits.ImageHDU(np.float32(self.cut_mask_image))\n",
    "#        hdu_temp3 = fits.ImageHDU(np.float32(self.cut_sigma_image))\n",
    "        hdul = fits.HDUList([hdu_temp])\n",
    "        hdul.writeto(outputname, overwrite=True)\n",
    "        return"
   ]
  },
  {
   "cell_type": "markdown",
   "id": "4959d8cd-b7a2-444e-b54a-5c78a89a26ee",
   "metadata": {},
   "source": [
    "# Image cut"
   ]
  },
  {
   "cell_type": "code",
   "execution_count": 409,
   "id": "e515676d-18dc-4793-b513-6674b432cae1",
   "metadata": {},
   "outputs": [
    {
     "name": "stdout",
     "output_type": "stream",
     "text": [
      "43.507533333333335 14.970433333333332\n",
      "1128.7265216183732 460.1654838621689\n"
     ]
    },
    {
     "name": "stderr",
     "output_type": "stream",
     "text": [
      "WARNING: Input data contains invalid values (NaNs or infs), which were automatically clipped. [astropy.stats.sigma_clipping]\n"
     ]
    },
    {
     "name": "stdout",
     "output_type": "stream",
     "text": [
      "writing cut image to /disk/bifrost/yuanze/multiAGN/UGC2369/spitzer/IRAC/ch1/pbcd/SPITZER_I1_12345344_0000_6_E8313400_maic\n"
     ]
    }
   ],
   "source": [
    "cutr=40\n",
    "#covimgpath= obspath+\"/\"+datatype+\"/\"+\"q1549_irac_\"+subtype+\"_cov.fits\"\n",
    "\n",
    "\n",
    "imcut, cp = img.img_cut(ra,dec,cutr)\n",
    "sky_mean, sky_median, sky_std = sigma_clipped_stats(imcut, sigma=3)\n",
    "header = img.data.header\n",
    "\n",
    "sigimg = img.cal_sigma_image(hdu[0].header[\"EXPTIME\"], gain = 1.)\n",
    "img.cut_sigma_image = sigimg[cp[2]:cp[3],cp[0]:cp[1]]\n",
    "img.cut_mask_image = np.zeros_like(img.cut_sigma_image)\n",
    "img.cut_mask_image = img.generate_cutmask(10,nsigma=4,deblend=True,addgrow=1,nlevels=4,source_dia=6,contrast=0.001)\n",
    "\n",
    "#outname = obspath+\"/\"+datatype+'/'+'q1549_'+datatype+'_'+subtype+'_cutimg.fits'\n",
    "#outname = KBSSpath+\"/\"+field+'/'+sourcename+'/'+datatype+'/'+sourcename+'_'+instrument+'_'+filter\n",
    "if datatype == \"spitzer\":\n",
    "    outname = multiAGNpath+\"/\"+field+\"/\"+datatype+\"/\"+inst+f\"/pbcd/{fprefix:s}\"\n",
    "else:\n",
    "    outname = datapath+\"/\"+fprefix\n",
    "print(\"writing cut image to\",outname)\n",
    "#writing sigma image\n",
    "write_fits(sigimg[cp[2]:cp[3],cp[0]:cp[1]],ra,dec,outname+'_cutsigma.fits',cutimg=img,header=header)\n",
    "#writing mask image\n",
    "write_fits(img.cut_mask_image,ra,dec,outname+'_cutmask.fits',cutimg=img,header=header)\n",
    "#writing cut image\n",
    "write_fits(img.cut_image,ra,dec,outname+'_cutimg.fits',cutimg=img,header=header)\n",
    "#img.write_imcut(ra,dec,outname+'_cutimg.fits',header=header)\n",
    "\n"
   ]
  },
  {
   "cell_type": "code",
   "execution_count": 410,
   "id": "1b802265-003c-4939-b425-8bfbe5b30c89",
   "metadata": {},
   "outputs": [
    {
     "name": "stdout",
     "output_type": "stream",
     "text": [
      "0.08536807\n"
     ]
    },
    {
     "data": {
      "text/plain": [
       "<matplotlib.image.AxesImage at 0x7efd8a3d1eb0>"
      ]
     },
     "execution_count": 410,
     "metadata": {},
     "output_type": "execute_result"
    },
    {
     "data": {
      "image/png": "[encoded data removed]",
      "text/plain": [
       "<Figure size 640x480 with 1 Axes>"
      ]
     },
     "metadata": {},
     "output_type": "display_data"
    }
   ],
   "source": [
    "#imcut_new=imcut.at[img.cut_mask_image].set(0)\n",
    "print(sky_median)\n",
    "sky_mean, sky_median, sky_std = sigma_clipped_stats(img.cut_image, sigma=3, maxiters=5)\n",
    "norm = simple_norm([sky_std, 10*sky_std], 'linear', percent=100)\n",
    "plt.imshow(img.cut_image-sky_median,origin='lower',cmap='gray_r',norm=norm)\n",
    "#plt.imshow(img.cut_sigma_image,origin='lower',cmap='gray_r')\n",
    "plt.imshow(img.cut_mask_image,origin='lower',cmap='Blues',alpha=img.cut_mask_image.astype(float)*0.5)\n"
   ]
  },
  {
   "cell_type": "code",
   "execution_count": 411,
   "id": "dde2da65-0d6d-479b-a53a-fab6172e5a15",
   "metadata": {},
   "outputs": [
    {
     "data": {
      "image/png": "[encoded data removed]",
      "text/plain": [
       "<Figure size 640x480 with 1 Axes>"
      ]
     },
     "metadata": {},
     "output_type": "display_data"
    }
   ],
   "source": [
    "\n",
    "\n",
    "\n",
    "plt.imshow(img.data-sky_median,origin='lower',cmap='gray_r',norm=norm)\n",
    "wcsinfo=img.data.wcs\n",
    "for entry in sentry:\n",
    "    sc = SkyCoord(ra=entry[\"RA\"], dec=entry[\"Dec\"], unit='deg',frame=\"icrs\", equinox='J2000')\n",
    "#plt.imshow(img.cut_mask_image,origin='lower',cmap='Blues',alpha=img.cut_mask_image.astype(float)*0.5)\n",
    "\n",
    "    s_coord=wcsinfo.world_to_pixel(sc)\n",
    "    plt.plot(s_coord[0],s_coord[1],\"+\",c=\"g\",ms=30,lw=0.1)\n"
   ]
  },
  {
   "cell_type": "code",
   "execution_count": 375,
   "id": "984565e0-bed7-4030-becb-a616fd235838",
   "metadata": {},
   "outputs": [
    {
     "data": {
      "text/plain": [
       "<matplotlib.image.AxesImage at 0x7efd8b27be80>"
      ]
     },
     "execution_count": 375,
     "metadata": {},
     "output_type": "execute_result"
    },
    {
     "data": {
      "image/png": "[encoded data removed]",
      "text/plain": [
       "<Figure size 640x480 with 1 Axes>"
      ]
     },
     "metadata": {},
     "output_type": "display_data"
    }
   ],
   "source": [
    "plt.imshow(img.cut_mask_image,origin='lower',cmap='gray_r')"
   ]
  },
  {
   "cell_type": "markdown",
   "id": "2594c0ce-146a-43b8-948b-1c585d63542b",
   "metadata": {},
   "source": [
    "# PSF"
   ]
  },
  {
   "cell_type": "code",
   "execution_count": 405,
   "id": "527bd138-88db-47f6-9814-d64188c2a8b1",
   "metadata": {},
   "outputs": [
    {
     "name": "stdout",
     "output_type": "stream",
     "text": [
      "writing PSF to /disk/bifrost/yuanze/multiAGN/UGC2369/spitzer/MIPS/ch1/pbcd/SPITZER_M1_12320768_0000_7_E6393893_maic\n",
      "total sources:  15\n",
      "sources above thereshold flux : 1\n",
      "sources above thereshold axis ratio : 1\n",
      "PSF FWHM: 2.04, median: 1.00, std: 0.00\n",
      "sources within threshould fwhm : 0\n",
      "sources isolate : 0\n",
      "sources remove central bad : 0\n"
     ]
    },
    {
     "name": "stderr",
     "output_type": "stream",
     "text": [
      "WARNING: Input data contains invalid values (NaNs or infs), which were automatically clipped. [astropy.stats.sigma_clipping]\n"
     ]
    },
    {
     "data": {
      "image/png": "[encoded data removed]",
      "text/plain": [
       "<Figure size 1200x300 with 4 Axes>"
      ]
     },
     "metadata": {},
     "output_type": "display_data"
    }
   ],
   "source": [
    "#cutr = float ()\n",
    "#fname = datapath\n",
    "      \n",
    "#img = IM.image(fname)\n",
    "#hdu = fits.open(fname)\n",
    "#outname = obspath+\"/\"+datatype+'/'+'q1549_'+datatype+'_'+subtype+'_epsf.fits'\n",
    "#outname = KBSSpath+\"/\"+field+\"/\"+datatype+'/'+field+'_'+datatype+'_{}_{}_epsf.fits'.format(filter,instrument)\n",
    "if datatype == \"spitzer\":\n",
    "    outname = multiAGNpath+\"/\"+field+\"/\"+datatype+\"/\"+inst+f\"/pbcd/{fprefix:s}\"\n",
    "else:\n",
    "    outname = datapath+\"/\"+fprefix\n",
    "print(\"writing PSF to\",outname)\n",
    "epsf,t_o,stars = img.generate_PSFs(5.0,data=None, nsigma=2.0, fluxthreshould =0.1, isolate = 0.07,qt = 0.5, sigfwhm = 1,medianfwhm=1, a_TV=1e6,a_sky=1.,\n",
    "                    size = 49, oversampling=1, plot=True, filepaths=outname+\"_epsf.fits\",droppsf=[],crossmatch=False, notfit=True,makestackpsf=False)"
   ]
  },
  {
   "cell_type": "code",
   "execution_count": 277,
   "id": "0645771c-e31b-4823-9f2a-73141bad4742",
   "metadata": {},
   "outputs": [],
   "source": [
    "fpsf=fits.open(outname+\"_epsf.fits\")"
   ]
  },
  {
   "cell_type": "code",
   "execution_count": 334,
   "id": "32228609-b99c-4826-aebf-10a8b171fa81",
   "metadata": {},
   "outputs": [
    {
     "name": "stdout",
     "output_type": "stream",
     "text": [
      "02:54:01.82 +14:58:18.11\n",
      "02:54:01.82 +14:58:18.11\n",
      "02:54:01.82 +14:58:18.11\n",
      "02:54:00.65 +15:01:17.29\n",
      "02:54:00.65 +15:01:17.29\n",
      "02:54:15.99 +14:55:07.80\n"
     ]
    }
   ],
   "source": [
    "for t in t_o:\n",
    "    ssc=SkyCoord(t[\"RA\"],t[\"DEC\"],unit=\"deg\")\n",
    "    print(ssc.to_string(style=\"hmsdms\", sep=\":\", precision=2))\n"
   ]
  },
  {
   "cell_type": "markdown",
   "id": "eeee83d3-bbfd-4c5c-ab78-4dc6dea0ba0f",
   "metadata": {
    "jp-MarkdownHeadingCollapsed": true
   },
   "source": [
    "# KCWI PSF\n",
    "As an IFS, KCWI PSF generation needs special method including exposure map weighting."
   ]
  },
  {
   "cell_type": "code",
   "execution_count": 23,
   "id": "5ca48523-3186-4b36-9ca1-776b4d34c2b6",
   "metadata": {},
   "outputs": [],
   "source": [
    "\n",
    "from photutils.segmentation import SourceCatalog,deblend_sources,detect_threshold,detect_sources\n",
    "from photutils.psf import extract_stars,EPSFBuilder\n",
    "\n",
    "from spectral_cube import SpectralCube\n",
    "from mathfunc import Maskellipse,polynomialfit,cross_match,elliptical_func\n",
    "import jax.numpy as jnp\n",
    "from images import fittingPSF\n",
    "\n",
    "from astropy.convolution import Gaussian2DKernel\n",
    "from astropy.table import Table, Column, join, join_skycoord\n",
    "from astropy.stats import sigma_clipped_stats,gaussian_fwhm_to_sigma\n",
    "from astroquery.xmatch import XMatch"
   ]
  },
  {
   "cell_type": "code",
   "execution_count": 405,
   "id": "09697fbb-cd67-48ee-bb62-1757e823d803",
   "metadata": {},
   "outputs": [],
   "source": [
    "\n",
    "\n",
    "def generate_ISF_PSF(data,emap,psfFWHM,wcs,nsigma=2.0, a_TV = 1e6, a_sky=1., fluxthreshould = 2, isolate = 0.1, qt = 0.8, sigfwhm = 2,\n",
    "                    size = 31, oversampling=1, plot=True, filepaths=None, droppsf=[], notfit=False, crossmatch = False, makestackpsf = False):\n",
    "    sky_mean, sky_median, sky_std = sigma_clipped_stats(data, sigma=3.0, maxiters=5)\n",
    "    data -= sky_median\n",
    "    mask = np.zeros_like(data, dtype=bool)\n",
    "    mask[np.isnan(data)] = True\n",
    "    mask[np.isinf(data)] = True\n",
    "    psfFWHMpix = psfFWHM / np.abs(wcsinfo.pixel_scale_matrix[0,0] * 3600)\n",
    "    thresholder = detect_threshold(data, nsigma=nsigma,mask=mask)\n",
    "    sigma = psfFWHMpix * gaussian_fwhm_to_sigma\n",
    "    kernel = Gaussian2DKernel(sigma, x_size=5, y_size=5)\n",
    "    kernel.normalize()\n",
    "    segm = detect_sources(data, thresholder, npixels=5,mask=mask)\n",
    "    segm_data = segm.data\n",
    "    props = SourceCatalog(data, segm)\n",
    "    stars = Table(props.to_table(['xcentroid','ycentroid','semimajor_sigma','semiminor_sigma','orientation','segment_flux','fwhm','maxval_xindex','maxval_yindex']))\n",
    "#    wcs = self.data.wcs\n",
    "    ra, dec = wcs.all_pix2world(stars['xcentroid'], stars['ycentroid'], 0)\n",
    "    Column_ra = Column(name='RA', data=ra)\n",
    "    Column_dec = Column(name='DEC', data=dec)\n",
    "    stars.add_columns([Column_ra, Column_dec])\n",
    "    if crossmatch:\n",
    "        t_o = XMatch.query(cat1=stars, cat2='vizier:I/355/gaiadr3', max_distance=1.5*psfFWHM*u.arcsec, \n",
    "                        colRA1='RA', colDec1='DEC')  # Gaia xmatch.\n",
    "    else:\n",
    "        t_o = stars\n",
    "    if len(t_o) == 0:\n",
    "        print (\"original table have length {0}, become 0 after Gaia cross match\".format(len(stars)))\n",
    "        t_o = stars\n",
    "    # filter source > fluxthreshould%\n",
    "    print ('total sources: ',len(t_o))\n",
    "    t_o = t_o[t_o['segment_flux'] > fluxthreshould*np.mean(t_o['segment_flux'])]\n",
    "    print ('sources above thereshold flux :',len(t_o))\n",
    "    q = t_o['semiminor_sigma']/t_o['semimajor_sigma']\n",
    "    t_o = t_o[q>qt]\n",
    "    print ('sources above thereshold axis ratio :',len(t_o))\n",
    "#    mean, median, std = sigma_clipped_stats(np.array(t_o['fwhm']), sigma=3.0, maxiters=5)\n",
    " #   t_o = t_o[t_o['fwhm'] < median+sigfwhm*std]\n",
    " #   print(t_o['fwhm'])\n",
    " #   print ('sources within threshould fwhm :',len(t_o))\n",
    "    cutPSF = []\n",
    "    cutMask = []\n",
    "    for i in range(len(t_o)):\n",
    "        x = t_o['maxval_xindex'][i]\n",
    "        y = t_o['maxval_yindex'][i]\n",
    "        nlabel = segm_data[y,x]\n",
    "        minx = np.max([0,x-size//2])\n",
    "        maxx = np.min([data.shape[1],x+size//2+1])\n",
    "        miny = np.max([0,y-size//2])\n",
    "        maxy = np.min([data.shape[0],y+size//2+1])\n",
    "        reachbound = False\n",
    "        if minx == 0 or maxx == data.shape[1] or miny == 0 or maxy == data.shape[0]:\n",
    "            reachbound = True\n",
    "        localdata = data[miny:maxy,minx:maxx]\n",
    "        localemap = emap[miny:maxy,minx:maxx]\n",
    "        # scale the count rate by exposure time map\n",
    "        weight=localemap/localemap.sum()\n",
    "        localdata = localdata/weight\n",
    "        localsege = segm_data[miny:maxy,minx:maxx]\n",
    "        localmask = mask[miny:maxy,minx:maxx]\n",
    "        localmask[(localsege!=nlabel)&(localsege!=0)] = True\n",
    "        localmask[np.isnan(localdata)] = True\n",
    "        localmask[np.isinf(localdata)] = True\n",
    "        if np.sum(localmask/(size**2)) > isolate or reachbound:\n",
    "            continue\n",
    "        cutPSF.append(jnp.array(localdata,dtype=jnp.float32))\n",
    "        cutMask.append(jnp.array(localmask,dtype=bool))\n",
    "    print ('sources isolate :',len(cutPSF))\n",
    "\n",
    "    circle = np.zeros([size,size],dtype=bool)\n",
    "    circle1 = Maskellipse(circle,[0.5*size,0.5*size],0.25*size,0,0)\n",
    "    removeloop = []\n",
    "#   over-ride the central bad removal routine for this time\n",
    "#    for loopx in range(len(cutPSF)):\n",
    "#        lmask = np.array(cutMask[loopx])\n",
    "#        if np.sum(lmask[circle1]) > 0:\n",
    "#            removeloop.append(loopx)\n",
    "    cutPSF = [i for j, i in enumerate(cutPSF) if j not in removeloop]\n",
    "    cutMask = [i for j, i in enumerate(cutMask) if j not in removeloop]\n",
    "    print ('sources remove central bad :',len(cutPSF))\n",
    "\n",
    "    if len(droppsf) > 0:\n",
    "        cutPSF = [i for j, i in enumerate(cutPSF) if j not in droppsf]\n",
    "        cutMask = [i for j, i in enumerate(cutMask) if j not in droppsf]\n",
    "\n",
    "\n",
    "    if plot:\n",
    "        tlens = len(cutPSF)\n",
    "        if (((tlens//5)+1)*5-tlens) < (((tlens//4)+1)*4-tlens):\n",
    "            ncols = 5\n",
    "            nrows = (tlens//5)+1 \n",
    "        else:\n",
    "            ncols = 4\n",
    "            nrows = (tlens//4)+1\n",
    "        fig, ax = plt.subplots(nrows=nrows, ncols=ncols, figsize=(3*ncols, 3*nrows),squeeze=True)\n",
    "        ax = ax.ravel()\n",
    "        for i in range(tlens):\n",
    "            image = cutPSF[i]\n",
    "            norm = simple_norm(image, 'log', percent=99.)\n",
    "            ax[i].imshow(image,cmap='Greys', origin='lower', norm=norm,interpolation='nearest')\n",
    "            ax[i].imshow(np.array(cutMask[i],dtype=float), cmap='Blues', origin='lower', alpha=0.5*np.array(cutMask[i],dtype=float))\n",
    "            ax[i].text(0.95, 0.05, str(i), color='r',transform=ax[i].transAxes,ha='right', va='bottom')\n",
    "        plt.show()\n",
    "\n",
    "    if notfit:\n",
    "        return None\n",
    "\n",
    "    epsf = fittingPSF(cutPSF,cutMask,oversampling = oversampling, a_TV = a_TV, a_sky=a_sky, makestackpsf = makestackpsf)\n",
    "\n",
    "    if filepaths is not None:\n",
    "        hdu = fits.PrimaryHDU(epsf)\n",
    "        After = fits.HDUList([hdu])\n",
    "        After.writeto(filepaths,overwrite= True)\n",
    "\n",
    "    if plot:\n",
    "        fig=plt.figure(figsize=(10,10))\n",
    "        image = epsf\n",
    "        norm = simple_norm(image, 'log', percent=99.)\n",
    "        plt.imshow(image,cmap='Greys', origin='lower', norm=norm,interpolation='nearest')\n",
    "        plt.show()\n",
    "\n",
    "    return epsf"
   ]
  },
  {
   "cell_type": "markdown",
   "id": "aad4c529-39f7-4db2-9aa3-8df09a65ada6",
   "metadata": {},
   "source": [
    "## Reading KCWI data"
   ]
  },
  {
   "cell_type": "code",
   "execution_count": 45,
   "id": "bb208c00-cc98-45ac-b800-e18705e08a44",
   "metadata": {},
   "outputs": [
    {
     "name": "stderr",
     "output_type": "stream",
     "text": [
      "WARNING: UnitsWarning: '10^(-8)erg/s/cm3/arcsec2' contains multiple slashes, which is discouraged by the FITS standard [astropy.units.format.generic]\n",
      "WARNING: PossiblySlowWarning: This function (<function BaseSpectralCube.mean at 0x7f0f806a4790>) requires loading the entire cube into memory and may therefore be slow. [spectral_cube.utils]\n",
      "WARNING: PossiblySlowWarning: This function (<function BaseSpectralCube.mean at 0x7f0f806a4790>) requires loading the entire cube into memory and may therefore be slow. [spectral_cube.utils]\n",
      "WARNING: UnitsWarning: '10^(-8)erg/s/cm3/arcsec2' contains multiple slashes, which is discouraged by the FITS standard [astropy.units.format.generic]\n",
      "WARNING: UnitsWarning: '10^(-8)erg/s/cm3/arcsec2' contains multiple slashes, which is discouraged by the FITS standard [astropy.units.format.generic]\n",
      "WARNING: UnitsWarning: '10^(-8)erg/s/cm3/arcsec2' contains multiple slashes, which is discouraged by the FITS standard [astropy.units.format.generic]\n"
     ]
    }
   ],
   "source": [
    "KCWIpath='/disk/bifrost/yuanze/KBSS/Q1549/BX101/kcwi_oned'\n",
    "ecube='q1549-BX101_ecubes.fits'\n",
    "icube='q1549-BX101_icubes.fits'\n",
    "\n",
    "redshift=2.3806\n",
    "inicube = SpectralCube.read(KCWIpath+'/'+icube) \n",
    "iniecube = SpectralCube.read(KCWIpath+'/'+ecube)\n",
    "iniwcs=inicube.wcs.celestial\n",
    "\n",
    "\n",
    "\n",
    "\n",
    "#Image generation\n",
    "rest_wavelength=1550 * u.AA # Lya line\n",
    "desired_wavelength = rest_wavelength * (redshift+1)\n",
    "delta=20*u.AA\n",
    "#kernel = Gaussian2DKernel(x_stddev=2,y_stddev=2)\n",
    "plotcube = inicube.spectral_slab((desired_wavelength-delta), (desired_wavelength+delta))\n",
    "temap = iniecube.spectral_slab((desired_wavelength-delta), (desired_wavelength+delta))\n",
    "emap = temap.mean(axis = 0, how = 'cube')\n",
    "#plotcube = plotcube.spatial_smooth(kernel)\n",
    "wcsinfo=iniwcs\n",
    "squashed_data=plotcube.mean(axis = 0, how = 'cube')\n",
    "#pixscale=np.abs(wcsinfo.pixel_scale_matrix[0,0] * 3600)\n",
    "\n",
    "fname=KCWIpath+'/'+icube\n",
    "img = IM.image(fname,IFS=True)\n"
   ]
  },
  {
   "cell_type": "code",
   "execution_count": 442,
   "id": "8201fe14-7af2-4559-90dc-57299e0425ec",
   "metadata": {
    "collapsed": true,
    "jupyter": {
     "outputs_hidden": true
    },
    "tags": []
   },
   "outputs": [
    {
     "name": "stdout",
     "output_type": "stream",
     "text": [
      "original table have length 28, become 0 after Gaia cross match\n",
      "total sources:  28\n",
      "sources above thereshold flux : 2\n",
      "sources above thereshold axis ratio : 2\n",
      "0.48469387755102034\n",
      "sources isolate : 1\n",
      "sources remove central bad : 1\n"
     ]
    },
    {
     "name": "stderr",
     "output_type": "stream",
     "text": [
      "/tmp/ipykernel_3305500/3430632793.py:57: RuntimeWarning: invalid value encountered in divide\n",
      "  localdata = localdata/weight\n"
     ]
    },
    {
     "data": {
      "image/png": "[encoded data removed]",
      "text/plain": [
       "<Figure size 1200x300 with 4 Axes>"
      ]
     },
     "metadata": {},
     "output_type": "display_data"
    },
    {
     "name": "stdout",
     "output_type": "stream",
     "text": [
      "1.6962489 1.5043583 0.0\n"
     ]
    },
    {
     "data": {
      "image/png": "[encoded data removed]",
      "text/plain": [
       "<Figure size 1000x1000 with 1 Axes>"
      ]
     },
     "metadata": {},
     "output_type": "display_data"
    },
    {
     "data": {
      "text/plain": [
       "array([[ 0.00000000e+00,  0.00000000e+00,  0.00000000e+00,\n",
       "         0.00000000e+00,  0.00000000e+00,  0.00000000e+00,\n",
       "         0.00000000e+00,  0.00000000e+00,  0.00000000e+00,\n",
       "         0.00000000e+00,  0.00000000e+00,  0.00000000e+00,\n",
       "         0.00000000e+00,  0.00000000e+00,  0.00000000e+00],\n",
       "       [ 0.00000000e+00,  0.00000000e+00,  0.00000000e+00,\n",
       "         0.00000000e+00,  0.00000000e+00,  0.00000000e+00,\n",
       "         0.00000000e+00,  0.00000000e+00,  0.00000000e+00,\n",
       "         0.00000000e+00,  0.00000000e+00,  0.00000000e+00,\n",
       "         0.00000000e+00,  0.00000000e+00,  0.00000000e+00],\n",
       "       [ 0.00000000e+00, -1.03966369e-04, -9.09562295e-05,\n",
       "         3.12190423e-05,  2.21001959e-04,  1.62115888e-04,\n",
       "         3.81814083e-04,  5.32257895e-04,  2.99377367e-04,\n",
       "         2.60861270e-04,  1.12409900e-04, -5.37476481e-05,\n",
       "        -7.84808872e-05, -1.52587352e-04,  0.00000000e+00],\n",
       "       [ 0.00000000e+00,  2.22248054e-05,  1.19401502e-05,\n",
       "         3.47105903e-04,  5.37331100e-04,  5.08595142e-04,\n",
       "         1.39230362e-03,  1.21812860e-03,  1.00720592e-03,\n",
       "         9.43096064e-04,  5.06775861e-04,  1.85476383e-04,\n",
       "         6.29378337e-06, -1.75486875e-05,  0.00000000e+00],\n",
       "       [ 0.00000000e+00,  3.98954580e-05,  2.85161746e-04,\n",
       "         5.27883123e-04,  1.13341480e-03,  3.08847846e-03,\n",
       "         4.29441547e-03,  4.28901426e-03,  5.24857594e-03,\n",
       "         2.58001708e-03,  1.36433740e-03,  7.50486157e-04,\n",
       "         3.53498152e-04,  3.76175121e-05,  0.00000000e+00],\n",
       "       [ 0.00000000e+00,  2.64361850e-04,  3.75054922e-04,\n",
       "         8.03294708e-04,  4.20617871e-03,  5.86341321e-03,\n",
       "         1.37848482e-02,  2.24657115e-02,  1.36924097e-02,\n",
       "         1.03931138e-02,  3.22321360e-03,  1.47715700e-03,\n",
       "         1.02321699e-03,  1.43448837e-04,  0.00000000e+00],\n",
       "       [ 0.00000000e+00,  4.78720351e-04,  5.46922907e-04,\n",
       "         2.31076963e-03,  6.22779969e-03,  1.10211261e-02,\n",
       "         4.81233895e-02,  5.91646768e-02,  5.07961512e-02,\n",
       "         2.74929125e-02,  1.03039835e-02,  3.05856834e-03,\n",
       "         2.01187283e-03,  1.21228935e-04,  0.00000000e+00],\n",
       "       [ 0.00000000e+00,  5.30483143e-04,  7.62871292e-04,\n",
       "         2.00001849e-03,  6.59345370e-03,  1.81954149e-02,\n",
       "         6.06445111e-02,  7.20996857e-02,  5.70511855e-02,\n",
       "         4.21544276e-02,  1.16155166e-02,  4.20346158e-03,\n",
       "         2.36525200e-03,  1.82316595e-04,  0.00000000e+00],\n",
       "       [ 0.00000000e+00,  3.02438508e-04,  5.38278720e-04,\n",
       "         1.42641598e-03,  6.66097878e-03,  1.25462953e-02,\n",
       "         4.48862500e-02,  4.91665304e-02,  3.58752161e-02,\n",
       "         2.78854128e-02,  1.04762856e-02,  2.73075048e-03,\n",
       "         2.13622884e-03,  2.98694766e-04,  0.00000000e+00],\n",
       "       [ 0.00000000e+00,  2.35440675e-04,  4.68301150e-04,\n",
       "         1.09786703e-03,  4.09806101e-03,  8.69881362e-03,\n",
       "         2.57061385e-02,  3.35391313e-02,  2.77834814e-02,\n",
       "         1.84812397e-02,  5.49438829e-03,  2.31886795e-03,\n",
       "         1.11072487e-03,  2.46210664e-04,  0.00000000e+00],\n",
       "       [ 0.00000000e+00,  9.57565208e-05,  1.49185129e-04,\n",
       "         4.96737426e-04,  1.61658903e-03,  2.26098159e-03,\n",
       "         5.94789442e-03,  7.58629572e-03,  6.78624120e-03,\n",
       "         3.40713537e-03,  1.73079362e-03,  1.08418742e-03,\n",
       "         3.70491762e-04,  9.11801690e-05,  0.00000000e+00],\n",
       "       [ 0.00000000e+00,  1.18064578e-04,  1.32510599e-04,\n",
       "         3.58882506e-04,  8.78514315e-04,  1.15332508e-03,\n",
       "         2.31203693e-03,  2.85647647e-03,  1.84706040e-03,\n",
       "         1.55168714e-03,  1.00088608e-03,  3.44864588e-04,\n",
       "         1.97067217e-04, -7.27764882e-06,  0.00000000e+00],\n",
       "       [ 0.00000000e+00,  3.05775116e-04,  2.88304349e-04,\n",
       "         3.55690485e-04,  5.43063274e-04,  5.68741758e-04,\n",
       "         1.17003173e-03,  1.28890236e-03,  1.04208663e-03,\n",
       "         1.14943215e-03,  4.62855212e-04,  2.77392071e-04,\n",
       "         1.36550298e-04,  1.28243119e-05,  0.00000000e+00],\n",
       "       [ 0.00000000e+00,  3.75316362e-04,  3.91698122e-04,\n",
       "         4.23586200e-04,  6.86947315e-04,  6.99198805e-04,\n",
       "         9.91187990e-04,  9.80893034e-04,  1.11279089e-03,\n",
       "         5.60652814e-04,  3.54191608e-04,  3.57170211e-04,\n",
       "         1.59419054e-04,  2.72248784e-04,  0.00000000e+00],\n",
       "       [ 0.00000000e+00,  5.31951606e-04,  5.37915796e-04,\n",
       "         5.74585109e-04,  8.38532811e-04,  8.43145477e-04,\n",
       "         7.67746242e-04,  7.57661706e-04,  6.62497536e-04,\n",
       "         6.45846128e-04,  1.93076834e-04, -5.20863359e-05,\n",
       "         6.73525356e-05,  1.33652589e-04,  0.00000000e+00]], dtype=float32)"
      ]
     },
     "execution_count": 442,
     "metadata": {},
     "output_type": "execute_result"
    }
   ],
   "source": [
    "\n",
    "outname='/disk/bifrost/yuanze/KBSS/Q1549/BX101/kcwi_oned/KCWI_CIV_psf.fits'\n",
    "generate_ISF_PSF(squashed_data.data,emap.value,0.5,wcsinfo,nsigma=2.0, fluxthreshould = 0.2, isolate = 0.1,qt = 0.1, sigfwhm =2, a_TV=1e4,a_sky=0,\n",
    "                    size = 14, oversampling=1, plot=True, filepaths=outname,crossmatch=True, notfit=False,makestackpsf=False)"
   ]
  },
  {
   "cell_type": "code",
   "execution_count": 445,
   "id": "38f90713-d287-49a2-bef1-c31d2b0cd746",
   "metadata": {},
   "outputs": [],
   "source": [
    "KCWI_filter=np.array([plotcube.spectral_axis,np.ones(len(plotcube.spectral_axis))*1/len(plotcube.spectral_axis)])\n",
    "np.savetxt('/disk/bifrost/yuanze/software/GalfitS/src/data/filters/KCWI_squashed',KCWI_filter.T)"
   ]
  },
  {
   "cell_type": "code",
   "execution_count": 23,
   "id": "45e1552f-b12f-4f42-bad8-7086b8aeaac9",
   "metadata": {},
   "outputs": [
    {
     "name": "stderr",
     "output_type": "stream",
     "text": [
      "WARNING: UnitsWarning: '10^(-8)erg/s/cm3/arcsec2' contains multiple slashes, which is discouraged by the FITS standard [astropy.units.format.generic]\n",
      "WARNING: PossiblySlowWarning: This function (<function BaseSpectralCube.mean at 0x7f0f806a4790>) requires loading the entire cube into memory and may therefore be slow. [spectral_cube.utils]\n",
      "WARNING: UnitsWarning: '10^(-8)erg/s/cm3/arcsec2' contains multiple slashes, which is discouraged by the FITS standard [astropy.units.format.generic]\n",
      "WARNING: UnitsWarning: '10^(-8)erg/s/cm3/arcsec2' contains multiple slashes, which is discouraged by the FITS standard [astropy.units.format.generic]\n",
      "WARNING: UnitsWarning: '10^(-8)erg/s/cm3/arcsec2' contains multiple slashes, which is discouraged by the FITS standard [astropy.units.format.generic]\n"
     ]
    }
   ],
   "source": [
    "KCWIpath='/disk/bifrost/yuanze/KBSS/Q1549/BX101/kcwi_oned'\n",
    "ecube='q1549-BX101_ecubes.fits'\n",
    "icube_wcs ='q1549-BX101_icubes_wcs.fits'\n",
    "fname=KCWIpath+'/'+icube_wcs\n",
    "cube_wcs = SpectralCube.read(KCWIpath+'/'+icube_wcs)\n",
    "aligned_wcs = cube_wcs.wcs.celestial\n",
    "plotcube = cube_wcs.spectral_slab((desired_wavelength-delta), (desired_wavelength+delta))\n",
    "squashed_data=plotcube.mean(axis = 0, how = 'cube')\n",
    "\n",
    "redshift=2.3806\n",
    "img = IM.image(fname,IFS=True)\n",
    "header=img.data.header\n",
    "img.data=squashed_data"
   ]
  },
  {
   "cell_type": "code",
   "execution_count": 40,
   "id": "0dc2987c-55ee-4059-8941-636fafc90678",
   "metadata": {},
   "outputs": [
    {
     "name": "stdout",
     "output_type": "stream",
     "text": [
      "writing cut image to /disk/bifrost/yuanze/KBSS/Q1549/BX101/kcwi_oned/KCWI_squashed_image.fits\n"
     ]
    }
   ],
   "source": [
    "ra, dec = 237.98053,19.15891\n",
    "cutr = float (5)\n",
    "\n",
    "imcut, cp = img.img_cut(ra,dec,cutr)\n",
    "sky_mean, sky_median, sky_std = sigma_clipped_stats(imcut, sigma=3, maxiters=5)\n",
    "sigimg = img.cal_sigma_image(1e5, gain = 1.)\n",
    "img.cut_sigma_image = sigimg[cp[2]:cp[3],cp[0]:cp[1]]\n",
    "#img.cut_mask_image = np.zeros_like(img.cut_sigma_image)\n",
    "img.cut_mask_image = img.generate_cutmask(0.5,nsigma=2,magnification=4,source_dia = 3,growmethod=False,npixels=4,deblend=False,addgrow=5)\n",
    "outname = KCWIpath+\"/KCWI_squashed_image.fits\"\n",
    "print(\"writing cut image to\",outname)\n",
    "img.write_imcut(ra,dec,outname,header=header)\n",
    "\n"
   ]
  },
  {
   "cell_type": "code",
   "execution_count": 41,
   "id": "69328fed-892b-429b-9334-22224aa50b9d",
   "metadata": {},
   "outputs": [
    {
     "data": {
      "image/png": "[encoded data removed]",
      "text/plain": [
       "<Figure size 640x480 with 1 Axes>"
      ]
     },
     "metadata": {},
     "output_type": "display_data"
    }
   ],
   "source": [
    "norm = simple_norm([sky_std, 10*sky_std], 'linear', percent=100)\n",
    "plt.imshow(imcut-sky_mean,origin='lower',cmap='gray_r',norm=norm)\n",
    "#plt.scatter(intsourceposi[0],intsourceposi[1]-1)\n",
    "plt.imshow(img.cut_mask_image,origin='lower',cmap='Blues',alpha=img.cut_mask_image.astype(float)*0.8)\n",
    "plt.show()"
   ]
  },
  {
   "cell_type": "code",
   "execution_count": 148,
   "id": "049efcf3-b08e-4c73-83fd-092c2a4dbdd9",
   "metadata": {
    "tags": []
   },
   "outputs": [],
   "source": [
    "def generate_cutmask(img,psfFWHM, data = None, sdmask = None, nsigma=3.0, magnification=3., npixels = 5, nlevels=32, contrast=0.001, deblend=False, sky_level = None, source_dia = 0.5 ,max_grow_size=100, growmethod = True, nearbygrow = 0, addgrow=0, left_source = True):\n",
    "        '''\n",
    "        Parameters\n",
    "        ----------\n",
    "        psfFWHM : float\n",
    "            FWHM of the imaging point spread function\n",
    "        nsigma : float\n",
    "            source detection threshold\n",
    "        '''\n",
    "        data = np.array(img.cut_image.copy())\n",
    "        if sky_level is None:\n",
    "            sky_mean, sky_median, sky_std = sigma_clipped_stats(data, sigma=3.0, maxiters=5)\n",
    "            sky_level = 3*sky_std\n",
    "        if sdmask is None:\n",
    "            sdmask = np.zeros_like(data,dtype = bool)\n",
    "        psfFWHMpix = psfFWHM / img.pixel_scales[0].value\n",
    "        thresholder = detect_threshold(data, nsigma=nsigma)\n",
    "        sigma = psfFWHMpix * gaussian_fwhm_to_sigma\n",
    "        kernel = Gaussian2DKernel(sigma, x_size=5, y_size=5)\n",
    "        kernel.normalize()\n",
    "        segm = detect_sources(data, thresholder, npixels=npixels, mask = sdmask)\n",
    "        if deblend is True:\n",
    "            segm = deblend_sources(data, segm, npixels=npixels, nlevels=nlevels, contrast=contrast,progress_bar = False, mask = sdmask)\n",
    "        if left_source:\n",
    "            if growmethod is True:\n",
    "                sourcelabel = segm.data[int(img.sources_skycord_cut[1]),int(img.sources_skycord_cut[0])]\n",
    "                segmnew, mask = grow_segmentation(segm, data, sourcelabel, source_dia = source_dia ,max_grow_size=max_grow_size, sky_level=sky_level, nearbygrow = nearbygrow, addgrow=addgrow)\n",
    "            else:\n",
    "                props = SourceCatalog(data, segm)\n",
    "                intsourceposi = [int(img.sources_skycord_cut[0]),int(img.sources_skycord_cut[1])]\n",
    "                mask=np.zeros_like(data, dtype=bool)\n",
    "                mask[np.isnan(data)] = True\n",
    "                mask[np.isinf(data)] = True\n",
    "                sources = Table(props.to_table(['xcentroid','ycentroid','semimajor_sigma','semiminor_sigma','orientation','segment_flux','fwhm','maxval_xindex','maxval_yindex']))\n",
    "                for loop in range(len(sources)):\n",
    "                    position = (sources['xcentroid'][loop],sources['ycentroid'][loop])\n",
    "                    a = sources['semimajor_sigma'][loop]\n",
    "                    b = sources['semiminor_sigma'][loop]\n",
    "                    theta = sources['orientation'][loop]*180./np.pi\n",
    "                    masktmp=Maskellipse(mask,position,magnification*a,(1-b/a),theta)\n",
    "                    # Y.D.: my proposal\n",
    "                    xmesh, ymesh = jnp.meshgrid(jnp.arange(masktmp.shape[1]), jnp.arange(masktmp.shape[0]))\n",
    "                    source_mask = elliptical_func(xmesh+0.5,intsourceposi,source_dia/2,0,0,ymesh+0.5)<0\n",
    "                    if not any(masktmp[source_mask]):\n",
    "                        #execute if masktmp is all False in the source region\n",
    "                        # This criteria is to make sure the source is not masked out. Previous version was too loose such that for KCWI it doesn't work. Must be rewritten.\n",
    "                        mask = masktmp\n",
    "        else:\n",
    "            if growmethod is True:\n",
    "                segmnew, mask = grow_segmentation(segm, data, None, source_dia = source_dia ,max_grow_size=max_grow_size, sky_level=sky_level, nearbygrow = nearbygrow, addgrow=addgrow)\n",
    "            else:\n",
    "                props = SourceCatalog(data, segm)\n",
    "                intsourceposi = [int(img.sources_skycord_cut[0]),int(img.sources_skycord_cut[1])]\n",
    "                mask=np.zeros_like(data, dtype=bool)\n",
    "                mask[np.isnan(data)] = True\n",
    "                mask[np.isinf(data)] = True\n",
    "                sources = Table(props.to_table(['xcentroid','ycentroid','semimajor_sigma','semiminor_sigma','orientation','segment_flux','fwhm','maxval_xindex','maxval_yindex']))\n",
    "                for loop in range(len(sources)):\n",
    "                    position = (sources['xcentroid'][loop],sources['ycentroid'][loop])\n",
    "                    a = sources['semimajor_sigma'][loop]\n",
    "                    b = sources['semiminor_sigma'][loop]\n",
    "                    theta = sources['orientation'][loop]*180./np.pi\n",
    "                    mask=Maskellipse(mask,position,magnification*a,(1-b/a),theta)       \n",
    "        return mask    "
   ]
  },
  {
   "cell_type": "code",
   "execution_count": 155,
   "id": "797fb8cc-f5ad-4e1e-b1f9-acf86c716069",
   "metadata": {
    "tags": []
   },
   "outputs": [],
   "source": [
    "mask=generate_cutmask(img,0.5,nsigma=4,magnification=4,source_dia = 6,growmethod=False,npixels=10,deblend=False,addgrow=5,left_source=True)"
   ]
  },
  {
   "cell_type": "code",
   "execution_count": 156,
   "id": "c07c8051-75ce-4ad0-9cce-438cea411a3e",
   "metadata": {
    "collapsed": true,
    "jupyter": {
     "outputs_hidden": true
    },
    "tags": []
   },
   "outputs": [
    {
     "name": "stdout",
     "output_type": "stream",
     "text": [
      "False\n",
      "0.0\n"
     ]
    }
   ],
   "source": [
    "intsourceposi = [int(img.sources_skycord_cut[0]),int(img.sources_skycord_cut[1])]\n",
    "print(mask[intsourceposi[1],intsourceposi[0]])\n",
    "print(mask.astype(float)[int(img.sources_skycord_cut[1]),int(img.sources_skycord_cut[0])])"
   ]
  },
  {
   "cell_type": "code",
   "execution_count": 78,
   "id": "777d0656-7781-4f6c-a6f7-541453ab0f84",
   "metadata": {},
   "outputs": [
    {
     "data": {
      "text/plain": [
       "46.38149556296914"
      ]
     },
     "execution_count": 78,
     "metadata": {},
     "output_type": "execute_result"
    }
   ],
   "source": [
    "img.sources_skycord_cut[0]"
   ]
  },
  {
   "cell_type": "code",
   "execution_count": 57,
   "id": "4fce3818-ff5e-4acb-b610-91602e6690eb",
   "metadata": {},
   "outputs": [],
   "source": [
    "hdul = fits.open(outname)"
   ]
  },
  {
   "cell_type": "code",
   "execution_count": 58,
   "id": "3377307f-4f3a-4315-bb2c-3ae65ad63fea",
   "metadata": {},
   "outputs": [],
   "source": [
    "from astropy.wcs import WCS\n",
    "header = hdul[0].header\n",
    "wcs=\n"
   ]
  },
  {
   "cell_type": "code",
   "execution_count": 23,
   "id": "09e244b5-0a7b-4890-bc09-fc3623e56db0",
   "metadata": {},
   "outputs": [],
   "source": [
    "red_da=img.data[0:22,0:22]"
   ]
  },
  {
   "cell_type": "code",
   "execution_count": 35,
   "id": "9f095871-9a96-4757-8bd3-81d1bb5d80f3",
   "metadata": {},
   "outputs": [],
   "source": [
    "from astropy.nddata import CCDData\n",
    "typesearch=isinstance(img.data, CCDData)"
   ]
  },
  {
   "cell_type": "code",
   "execution_count": 56,
   "id": "a6c9ad12-2178-40a3-ae0d-497dec24aa6e",
   "metadata": {},
   "outputs": [
    {
     "name": "stdout",
     "output_type": "stream",
     "text": [
      "INFO: using the unit cR passed to the FITS reader instead of the unit 10^(-8)erg/s/cm3/arcsec2 in the FITS file. [astropy.nddata.ccddata]\n"
     ]
    },
    {
     "data": {
      "text/plain": [
       "CCDData([[0., 0., 0., ..., 0., 0., 0.],\n",
       "         [0., 0., 0., ..., 0., 0., 0.],\n",
       "         [0., 0., 0., ..., 0., 0., 0.],\n",
       "         ...,\n",
       "         [0., 0., 0., ..., 0., 0., 0.],\n",
       "         [0., 0., 0., ..., 0., 0., 0.],\n",
       "         [0., 0., 0., ..., 0., 0., 0.]], unit='cR')"
      ]
     },
     "execution_count": 56,
     "metadata": {},
     "output_type": "execute_result"
    }
   ],
   "source": [
    "CCDData.read(outname, hdu=0, unit='cR')"
   ]
  }
 ],
 "metadata": {
  "kernelspec": {
   "display_name": "Python (nmma)",
   "language": "python",
   "name": "nmma"
  },
  "language_info": {
   "codemirror_mode": {
    "name": "ipython",
    "version": 3
   },
   "file_extension": ".py",
   "mimetype": "text/x-python",
   "name": "python",
   "nbconvert_exporter": "python",
   "pygments_lexer": "ipython3",
   "version": "3.8.17"
  }
 },
 "nbformat": 4,
 "nbformat_minor": 5
}
